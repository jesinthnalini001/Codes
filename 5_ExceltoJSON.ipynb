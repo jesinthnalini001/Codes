import os
import pandas as pd

# Directory containing the CSV files
directory = '/path/to/csv/files/'

# Get a list of CSV files that start with "Grou["
csv_files = [filename for filename in os.listdir(directory) if filename.startswith("Grou[") and filename.endswith('.csv')]

# Initialize an empty list to store DataFrames
dataframes = []

# Iterate through the CSV files and read them into DataFrames
for csv_file in csv_files:
    file_path = os.path.join(directory, csv_file)
    df = pd.read_csv(file_path)
    dataframes.append(df)

# Combine the DataFrames into one
combined_data = pd.concat(dataframes, ignore_index=True)

# Save the combined data to a new CSV file
output_file = '/path/to/output/combined_data.csv'
combined_data.to_csv(output_file, index=False)
print(f"Combined data saved to {output_file}")
