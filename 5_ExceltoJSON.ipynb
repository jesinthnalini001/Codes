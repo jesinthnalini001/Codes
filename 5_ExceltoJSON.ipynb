{
 "cells": [
  {
   "cell_type": "code",
   "execution_count": 9,
   "id": "35acc85a",
   "metadata": {},
   "outputs": [],
   "source": [
    "import pandas as pd\n",
    "import json"
   ]
  },
  {
   "cell_type": "code",
   "execution_count": 15,
   "id": "86bf8d3c",
   "metadata": {
    "scrolled": true
   },
   "outputs": [
    {
     "data": {
      "text/plain": [
       "Index(['version', 'operation', 'topic.label', 'topic.query'], dtype='object')"
      ]
     },
     "execution_count": 15,
     "metadata": {},
     "output_type": "execute_result"
    }
   ],
   "source": [
    "# Read the Excel file into a pandas dataframe\n",
    "df = pd.read_excel('D:/Python/TextiQTopics.xlsx')\n",
    "df.columns"
   ]
  },
  {
   "cell_type": "code",
   "execution_count": 16,
   "id": "cdf9727e",
   "metadata": {},
   "outputs": [],
   "source": [
    "# Convert dataframe to JSON\n",
    "json_data = {\n",
    "    \"version\": \"1.0\",\n",
    "    \"operations\": []\n",
    "}\n",
    "\n",
    "for _, row in df.iterrows():\n",
    "    operation = row['operation']\n",
    "    if operation == \"insert_topic\":\n",
    "        topic_label = row['topic.label']\n",
    "        topic_query = row['topic.query']\n",
    "        topic_data = {\n",
    "            \"label\": topic_label,\n",
    "            \"query\": topic_query\n",
    "        }\n",
    "        json_data[\"operations\"].append({\n",
    "            \"operation\": \"insert_topic\",\n",
    "            \"topic\": topic_data\n",
    "        })"
   ]
  },
  {
   "cell_type": "code",
   "execution_count": 17,
   "id": "5e93f287",
   "metadata": {},
   "outputs": [],
   "source": [
    "# Write JSON data to file\n",
    "with open('example.json', 'w') as f:\n",
    "    json.dump(json_data, f, indent=4)"
   ]
  },
  {
   "cell_type": "code",
   "execution_count": null,
   "id": "01e9599a",
   "metadata": {},
   "outputs": [],
   "source": []
  }
 ],
 "metadata": {
  "kernelspec": {
   "display_name": "Python 3 (ipykernel)",
   "language": "python",
   "name": "python3"
  },
  "language_info": {
   "codemirror_mode": {
    "name": "ipython",
    "version": 3
   },
   "file_extension": ".py",
   "mimetype": "text/x-python",
   "name": "python",
   "nbconvert_exporter": "python",
   "pygments_lexer": "ipython3",
   "version": "3.9.13"
  }
 },
 "nbformat": 4,
 "nbformat_minor": 5
}
