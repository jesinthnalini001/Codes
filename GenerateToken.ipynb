{
 "cells": [
  {
   "cell_type": "code",
   "execution_count": 6,
   "id": "8b0eea4d",
   "metadata": {},
   "outputs": [],
   "source": [
    "import pandas as pd\n",
    "import secrets\n",
    "import os"
   ]
  },
  {
   "cell_type": "code",
   "execution_count": 7,
   "id": "c7487a64",
   "metadata": {},
   "outputs": [],
   "source": [
    "# Import the data\n",
    "os.chdir('D:\\\\Upgrad\\\\NLP\\\\')"
   ]
  },
  {
   "cell_type": "code",
   "execution_count": 10,
   "id": "ce364a89",
   "metadata": {},
   "outputs": [],
   "source": [
    "# read the Excel file into a pandas dataframe\n",
    "df = pd.read_excel('BRID.xlsx')\n",
    "\n",
    "# generate a unique token for each row based on the BRID column\n",
    "df['TokenID'] = [secrets.token_hex(8) for _ in range(len(df))]\n",
    "\n",
    "# save the updated dataframe to the same Excel file\n",
    "df.to_excel('input_file.xlsx', index=False)"
   ]
  },
  {
   "cell_type": "code",
   "execution_count": null,
   "id": "0d41ca06",
   "metadata": {},
   "outputs": [],
   "source": []
  }
 ],
 "metadata": {
  "kernelspec": {
   "display_name": "Python 3 (ipykernel)",
   "language": "python",
   "name": "python3"
  },
  "language_info": {
   "codemirror_mode": {
    "name": "ipython",
    "version": 3
   },
   "file_extension": ".py",
   "mimetype": "text/x-python",
   "name": "python",
   "nbconvert_exporter": "python",
   "pygments_lexer": "ipython3",
   "version": "3.9.13"
  }
 },
 "nbformat": 4,
 "nbformat_minor": 5
}
