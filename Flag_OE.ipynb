{
 "cells": [
  {
   "cell_type": "code",
   "execution_count": null,
   "id": "6fbad00f",
   "metadata": {},
   "outputs": [],
   "source": [
    "import pandas as pd\n",
    "import re\n",
    "import nltk\n",
    "nltk.download('averaged_perceptron_tagger') # download the part-of-speech tagger\n",
    "nltk.download('maxent_ne_chunker') # download the named entity recognition model\n",
    "nltk.download('words') # download the list of words used by the named entity recognition model"
   ]
  },
  {
   "cell_type": "code",
   "execution_count": null,
   "id": "0e4c94f0",
   "metadata": {},
   "outputs": [],
   "source": [
    "df = pd.read_csv('your_data.csv') # read in your data as a pandas DataFrame\n",
    "text_columns = ['text_column_1', 'text_column_2', 'text_column_3'] # list of column names to process"
   ]
  },
  {
   "cell_type": "code",
   "execution_count": null,
   "id": "580438e8",
   "metadata": {},
   "outputs": [],
   "source": [
    "# regular expressions for phone numbers and email addresses\n",
    "phone_regex = r'\\b\\d{3}[-.]?\\d{3}[-.]?\\d{4}\\b'\n",
    "email_regex = r'\\b[A-Za-z0-9._%+-]+@[A-Za-z0-9.-]+\\.[A-Z|a-z]{2,}\\b'\n",
    "\n",
    "for column in text_columns:\n",
    "    text_column = df[column] # extract the column of text for the current iteration\n",
    "    names_exist = [] # initialize a list to store the \"Names\" column\n",
    "    phones_exist = [] # initialize a list to store the \"PhoneNumbers\" column\n",
    "    emails_exist = [] # initialize a list to store the \"Emails\" column\n",
    "\n",
    "    for text in text_column:\n",
    "        # tokenize the text into words and part-of-speech tags\n",
    "        tokens = nltk.word_tokenize(text)\n",
    "        pos_tags = nltk.pos_tag(tokens)\n",
    "\n",
    "        # use the named entity recognition model to identify named entities\n",
    "        chunks = nltk.ne_chunk(pos_tags)\n",
    "\n",
    "        # initialize variables to keep track of whether names, phone numbers, and emails exist in the current text\n",
    "        name_exists = False\n",
    "        phone_exists = False\n",
    "        email_exists = False\n",
    "\n",
    "        # iterate over the named entities identified by the named entity recognition model\n",
    "        for chunk in chunks:\n",
    "            if hasattr(chunk, 'label') and chunk.label() == 'PERSON':\n",
    "                name_exists = True\n",
    "            elif re.search(phone_regex, str(chunk)):\n",
    "                phone_exists = True\n",
    "            elif re.search(email_regex, str(chunk)):\n",
    "                email_exists = True\n",
    "\n",
    "        # add the results to the corresponding lists\n",
    "        if name_exists:\n",
    "            names_exist.append('Yes')\n",
    "        else:\n",
    "            names_exist.append('No')\n",
    "\n",
    "        if phone_exists:\n",
    "            phones_exist.append('Yes')\n",
    "        else:\n",
    "            phones_exist.append('No')\n",
    "\n",
    "        if email_exists:\n",
    "            emails_exist.append('Yes')\n",
    "        else:\n",
    "            emails_exist.append('No')\n",
    "\n",
    "    # add the new columns to the DataFrame\n",
    "    df[f'{column}_Names'] = names_exist\n",
    "    df[f'{column}_PhoneNumbers'] = phones_exist\n",
    "    df[f'{column}_Emails'] = emails_exist"
   ]
  },
  {
   "cell_type": "code",
   "execution_count": null,
   "id": "b856aefd",
   "metadata": {},
   "outputs": [],
   "source": [
    "# save the updated DataFrame as a CSV file\n",
    "df.to_csv('updated_data.csv', index=False)"
   ]
  }
 ],
 "metadata": {
  "kernelspec": {
   "display_name": "Python 3 (ipykernel)",
   "language": "python",
   "name": "python3"
  },
  "language_info": {
   "codemirror_mode": {
    "name": "ipython",
    "version": 3
   },
   "file_extension": ".py",
   "mimetype": "text/x-python",
   "name": "python",
   "nbconvert_exporter": "python",
   "pygments_lexer": "ipython3",
   "version": "3.9.13"
  }
 },
 "nbformat": 4,
 "nbformat_minor": 5
}
